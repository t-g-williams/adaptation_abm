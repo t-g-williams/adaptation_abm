{
 "cells": [
  {
   "cell_type": "code",
   "execution_count": 24,
   "metadata": {},
   "outputs": [
    {
     "data": {
      "text/plain": [
       "<module 'plot.single_run' from 'G:/My Drive/Research/adaptation_abm/code\\\\plot\\\\single_run.py'>"
      ]
     },
     "execution_count": 24,
     "metadata": {},
     "output_type": "execute_result"
    }
   ],
   "source": [
    "import sys\n",
    "sys.path.append('G:/My Drive/Research/adaptation_abm/code')\n",
    "import model.model as mod\n",
    "import plot.single_run as plt_single\n",
    "import imp\n",
    "import numpy as np\n",
    "import pickle\n",
    "imp.reload(mod)\n",
    "imp.reload(plt_single)"
   ]
  },
  {
   "cell_type": "code",
   "execution_count": 31,
   "metadata": {},
   "outputs": [],
   "source": [
    "f = '../../outputs/2019_10_10/POM/100000_10reps/input_params_0.pkl'\n",
    "inputs = pickle.load(open(f, 'rb'))\n",
    "inputs['adaptation']['burnin_period'] = 10"
   ]
  },
  {
   "cell_type": "code",
   "execution_count": 32,
   "metadata": {},
   "outputs": [],
   "source": [
    "inputs['model']['seed'] = 0\n",
    "inputs['model']['T'] = 100\n",
    "# inputs['agents']['wealth_init_mean'] *=1\n",
    "# inputs['land']['random_effect_sd'] = 0.5\n",
    "inputs['model']['n_agents'] = 6\n",
    "\n",
    "\n",
    "# inputs['land']['wealth_N_conversion'] *= 0.9\n",
    "# inputs['land']['organic_N_min_init'] = 6000\n",
    "# inputs['land']['organic_N_max_init'] = 6000\n",
    "# inputs['agents']['cash_req_mean'] *= 1.3\n",
    "\n",
    "# inputs['model']['adaptation_option'] = 'cover_crop'\n",
    "# inputs['agents']['adap_type'] = 'always'"
   ]
  },
  {
   "cell_type": "code",
   "execution_count": 33,
   "metadata": {
    "scrolled": false
   },
   "outputs": [],
   "source": [
    "m = mod.Model(inputs)\n",
    "for t in range(m.T):\n",
    "    m.step()"
   ]
  },
  {
   "cell_type": "code",
   "execution_count": 34,
   "metadata": {},
   "outputs": [],
   "source": [
    "plt_single.main(m, save=False)"
   ]
  }
 ],
 "metadata": {
  "kernelspec": {
   "display_name": "Python 3",
   "language": "python",
   "name": "python3"
  },
  "language_info": {
   "codemirror_mode": {
    "name": "ipython",
    "version": 3
   },
   "file_extension": ".py",
   "mimetype": "text/x-python",
   "name": "python",
   "nbconvert_exporter": "python",
   "pygments_lexer": "ipython3",
   "version": "3.6.4"
  }
 },
 "nbformat": 4,
 "nbformat_minor": 2
}
